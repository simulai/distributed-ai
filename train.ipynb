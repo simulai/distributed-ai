{
 "cells": [
  {
   "cell_type": "code",
   "execution_count": null,
   "metadata": {
    "vscode": {
     "languageId": "plaintext"
    }
   },
   "outputs": [],
   "source": [
    "# 主入口Notebook\n",
    "import os\n",
    "from multiprocessing import Queue\n",
    "from nodes.node import VirtualNode\n",
    "\n",
    "if __name__ == \"__main__\":\n",
    "    # 初始化通信队列\n",
    "    comm_queue = Queue(maxsize=100)\n",
    "    \n",
    "    # 启动4个节点进程\n",
    "    processes = []\n",
    "    for i in range(4):\n",
    "        p = VirtualNode(node_id=i, comm_queue=comm_queue, \n",
    "                       config_path='configs/comm_config.yaml')\n",
    "        p.start()\n",
    "        processes.append(p)\n",
    "    \n",
    "    # 启动资源监控\n",
    "    from utils.monitor import ResourceMonitor\n",
    "    monitor = ResourceMonitor(port=8000)\n",
    "    monitor.collect_metrics()\n",
    "    \n",
    "    # 等待训练完成\n",
    "    [p.join() for p in processes]"
   ]
  }
 ],
 "metadata": {
  "language_info": {
   "name": "python"
  }
 },
 "nbformat": 4,
 "nbformat_minor": 2
}
